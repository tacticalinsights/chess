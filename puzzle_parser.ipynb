{
 "cells": [
  {
   "cell_type": "markdown",
   "id": "895bbeb1",
   "metadata": {},
   "source": [
    "## Extracting and Formatting Puzzle Data from Lichess"
   ]
  },
  {
   "cell_type": "code",
   "execution_count": 1,
   "id": "59c44896",
   "metadata": {},
   "outputs": [],
   "source": [
    "import pandas as pd\n",
    "import io\n",
    "import chess.pgn\n",
    "import requests\n",
    "from random import shuffle\n",
    "\n",
    "def get_last_fen(pgn): # plays all the moves up the puzzle position to obtain pgn of puzzle position\n",
    "    pgn_io = io.StringIO(pgn)\n",
    "    game = chess.pgn.read_game(pgn_io)\n",
    "    board = game.board()\n",
    "    for move in game.mainline_moves():\n",
    "        board.push(move)\n",
    "    return board.fen()\n",
    "\n",
    "df = pd.read_csv(\"puzzle_ids.csv\") # Credit --> https://database.lichess.org/#puzzles\n",
    "df = df[df.columns[1]]\n",
    "\n",
    "puzzle_list = []\n",
    "\n",
    "for puzzle_id in df[:10000]:\n",
    "    url = f\"https://lichess.org/api/puzzle/{puzzle_id}\"\n",
    "    puzzle = requests.get(url).json() # gets puzzle information from lichess database\n",
    "    starting_position = get_last_fen(puzzle['game']['pgn'])\n",
    "    positions = [starting_position.split()[0]]\n",
    "    fen = (puzzle['puzzle']['rating'], starting_position.split()[1], positions)\n",
    "    board = chess.Board(starting_position)\n",
    "    for move in puzzle['puzzle']['solution']:\n",
    "        board.push(chess.Move.from_uci(move))\n",
    "        positions.append(board.fen().split()[0])\n",
    "    puzzle_list.append(fen)\n",
    "    \n",
    "new_puzzle_format = pd.DataFrame(columns = ['rating', 'color', 'positions'], data = puzzle_list)\n",
    "new_puzzle_format['color'] = new_puzzle_format['color'].apply(lambda x: 'white' if x == 'w' else 'black')\n",
    "new_puzzle_format.to_csv('puzzles.csv')"
   ]
  }
 ],
 "metadata": {
  "kernelspec": {
   "display_name": "Python 3 (ipykernel)",
   "language": "python",
   "name": "python3"
  },
  "language_info": {
   "codemirror_mode": {
    "name": "ipython",
    "version": 3
   },
   "file_extension": ".py",
   "mimetype": "text/x-python",
   "name": "python",
   "nbconvert_exporter": "python",
   "pygments_lexer": "ipython3",
   "version": "3.9.13"
  }
 },
 "nbformat": 4,
 "nbformat_minor": 5
}
