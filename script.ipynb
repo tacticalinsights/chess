{
 "cells": [
  {
   "cell_type": "code",
   "execution_count": 1,
   "id": "21ad0f7b",
   "metadata": {
    "scrolled": true
   },
   "outputs": [
    {
     "name": "stdout",
     "output_type": "stream",
     "text": [
      "pygame 2.3.0 (SDL 2.24.2, Python 3.9.13)\n",
      "Hello from the pygame community. https://www.pygame.org/contribute.html\n"
     ]
    },
    {
     "data": {
      "text/plain": [
       "(5, 0)"
      ]
     },
     "execution_count": 1,
     "metadata": {},
     "output_type": "execute_result"
    }
   ],
   "source": [
    "from IPython.display import clear_output\n",
    "import numpy as np\n",
    "import pandas as pd\n",
    "import random\n",
    "import pygame\n",
    "pygame.init()"
   ]
  },
  {
   "cell_type": "markdown",
   "id": "abd5c325",
   "metadata": {},
   "source": [
    "# General"
   ]
  },
  {
   "cell_type": "markdown",
   "id": "282af5e8",
   "metadata": {},
   "source": [
    "### Piece Representation"
   ]
  },
  {
   "cell_type": "code",
   "execution_count": 2,
   "id": "ff47dc98",
   "metadata": {},
   "outputs": [],
   "source": [
    "class Piece:\n",
    "    def __init__(self, name, color,  value = 0):\n",
    "        self.name = name\n",
    "        self.color = color\n",
    "        self.moved = False # used for piece history for castling / en-passant\n",
    "        \n",
    "    def __str__(self):\n",
    "        if len(self.name) > 1:\n",
    "            return str(self.color)[0] + str(self.name)[0] \n",
    "        else:\n",
    "            return '  '"
   ]
  },
  {
   "cell_type": "markdown",
   "id": "3a4b8945",
   "metadata": {},
   "source": [
    "### Piece Images / Size Specs"
   ]
  },
  {
   "cell_type": "code",
   "execution_count": 3,
   "id": "1265df40",
   "metadata": {},
   "outputs": [],
   "source": [
    "WIDTH = 640\n",
    "HEIGHT = 640\n",
    "SIZE = WIDTH // 8\n",
    "IMAGES = {}\n",
    "pieces = ['white_pawn', 'white_knight', 'white_bishop', 'white_rook', 'white_queen', 'white_king', \n",
    "          'black_pawn', 'black_knight', 'black_bishop', 'black_rook', 'black_queen', 'black_king']\n",
    "for piece in pieces:\n",
    "    IMAGES[piece] = pygame.transform.scale(pygame.image.load(f\"{piece}.png\"), (SIZE, SIZE))"
   ]
  },
  {
   "cell_type": "code",
   "execution_count": 4,
   "id": "6c2641f7",
   "metadata": {},
   "outputs": [],
   "source": [
    "color_code = {'w': 'white', 'b': 'black'}\n",
    "piece_codes = {\n",
    "                \"r\": Piece(\"rook\", \"black\"),\n",
    "                \"n\": Piece(\"knight\", \"black\"),\n",
    "                \"b\": Piece(\"bishop\", \"black\"),\n",
    "                \"q\": Piece(\"queen\", \"black\"),\n",
    "                \"k\": Piece(\"king\", \"black\"),\n",
    "                \"p\": Piece(\"pawn\", \"black\"),\n",
    "                \"R\": Piece(\"rook\", \"white\"),\n",
    "                \"N\": Piece(\"knight\", \"white\"),\n",
    "                \"B\": Piece(\"bishop\", \"white\"),\n",
    "                \"Q\": Piece(\"queen\", \"white\"),\n",
    "                \"K\": Piece(\"king\", \"white\"),\n",
    "                \"P\": Piece(\"pawn\", \"white\"),\n",
    "              }"
   ]
  },
  {
   "cell_type": "markdown",
   "id": "aaee2f77",
   "metadata": {},
   "source": [
    "### Game Representation"
   ]
  },
  {
   "cell_type": "code",
   "execution_count": 5,
   "id": "362b9dc2",
   "metadata": {},
   "outputs": [],
   "source": [
    "class Game():\n",
    "    def __init__(self):\n",
    "        self.board = np.empty((8, 8), dtype = Piece)\n",
    "        self.turn = 'white'\n",
    "        self.selected_piece = None\n",
    "        self.initial_row, self.initial_col = None, None\n",
    "        self.valid_moves = []\n",
    "        self.final_row, self.final_col = None, None\n",
    "    \n",
    "    def setup_board(self):\n",
    "        # white pieces\n",
    "        self.board[7][0] = Piece('rook', 'white')\n",
    "        self.board[7][1] = Piece('knight', 'white')\n",
    "        self.board[7][2] = Piece('bishop', 'white')\n",
    "        self.board[7][3] = Piece('queen', 'white')\n",
    "        self.board[7][4] = Piece('king', 'white')\n",
    "        self.board[7][5] = Piece('bishop', 'white')\n",
    "        self.board[7][6] = Piece('knight', 'white')\n",
    "        self.board[7][7] = Piece('rook', 'white')\n",
    "        for i in range(0, 8):\n",
    "            self.board[6][i] = Piece('pawn', 'white')\n",
    "        # black pieces\n",
    "        self.board[0][0] = Piece('rook', 'black')\n",
    "        self.board[0][1] = Piece('knight', 'black')\n",
    "        self.board[0][2] = Piece('bishop', 'black')\n",
    "        self.board[0][3] = Piece('queen', 'black')\n",
    "        self.board[0][4] = Piece('king', 'black')\n",
    "        self.board[0][5] = Piece('bishop', 'black')\n",
    "        self.board[0][6] = Piece('knight', 'black')\n",
    "        self.board[0][7] = Piece('rook', 'black')\n",
    "        for i in range(0, 8):\n",
    "            self.board[1][i] = Piece('pawn', 'black')\n",
    "        # empty squares\n",
    "        for x in range(2, 6):\n",
    "            for y in range(0, 8):\n",
    "                self.board[x][y] = Piece('', '')\n",
    "    \n",
    "    def setup_custom(self, fen = \"rnbqkbnr/pppppppp/8/8/8/8/PPPPPPPP/RNBQKBNR\"):\n",
    "        row = 0\n",
    "        col = 0\n",
    "        for char in fen:\n",
    "            if char == '/':\n",
    "                row += 1\n",
    "                col = 0\n",
    "            elif char.isnumeric():\n",
    "                for i in range(int(char)):\n",
    "                    self.board[row][col] = Piece('', '')\n",
    "                    col += 1\n",
    "            else:\n",
    "                self.board[row][col] = piece_codes[char]\n",
    "                col += 1"
   ]
  },
  {
   "cell_type": "markdown",
   "id": "3946f6b1",
   "metadata": {},
   "source": [
    "### Board On Screen"
   ]
  },
  {
   "cell_type": "code",
   "execution_count": 6,
   "id": "6adb222c",
   "metadata": {},
   "outputs": [],
   "source": [
    "def draw_board(screen, game):\n",
    "    for row in range(8):\n",
    "        for col in range(8):\n",
    "            if (row + col) % 2 == 0:\n",
    "                pygame.draw.rect(screen, pygame.Color((238, 238, 210)), pygame.Rect(col * SIZE, row * SIZE, SIZE, SIZE))\n",
    "            else:\n",
    "                pygame.draw.rect(screen, pygame.Color((118, 150, 86)), pygame.Rect(col * SIZE, row * SIZE, SIZE, SIZE))\n",
    "            piece = game.board[row][col]\n",
    "            if piece.name != '':\n",
    "                screen.blit(IMAGES[f\"{piece.color}_{piece.name}\"], pygame.Rect(col * SIZE, row * SIZE, SIZE, SIZE))"
   ]
  },
  {
   "cell_type": "markdown",
   "id": "59d55856",
   "metadata": {},
   "source": [
    "### FEN"
   ]
  },
  {
   "cell_type": "code",
   "execution_count": 7,
   "id": "318675a6",
   "metadata": {},
   "outputs": [],
   "source": [
    "def generate_fen(game):\n",
    "    fen = ''\n",
    "    empty_squares = 0\n",
    "    for row in range(8):\n",
    "        for col in range(8):\n",
    "            if game.board[row][col].name == '':\n",
    "                empty_squares += 1\n",
    "            else:\n",
    "                if empty_squares > 0:\n",
    "                    fen += str(empty_squares)\n",
    "                    empty_squares = 0\n",
    "                if game.board[row][col].color == 'white':\n",
    "                    if game.board[row][col].name == 'knight':\n",
    "                        fen += 'N'\n",
    "                    else:\n",
    "                        fen += game.board[row][col].name[0].upper()\n",
    "                else:\n",
    "                    if game.board[row][col].name == 'knight':\n",
    "                        fen += 'n'\n",
    "                    else:\n",
    "                        fen += game.board[row][col].name[0].lower()\n",
    "        if empty_squares > 0:\n",
    "            fen += str(empty_squares)\n",
    "            empty_squares = 0\n",
    "        fen += '/'\n",
    "    return fen[:-1]"
   ]
  },
  {
   "cell_type": "markdown",
   "id": "248a17c3",
   "metadata": {},
   "source": [
    "### Piece Movement Rules"
   ]
  },
  {
   "cell_type": "code",
   "execution_count": 8,
   "id": "d9a90216",
   "metadata": {},
   "outputs": [],
   "source": [
    "def valid_move(game):\n",
    "    \n",
    "    if game.initial_row == game.final_row and game.initial_col == game.final_col: # starting square same as landing square\n",
    "        return False\n",
    "    if game.selected_piece.color == game.board[game.final_row][game.final_col].color: # capture your own piece\n",
    "        return False\n",
    "    if game.board[game.final_row][game.final_col].name == 'king': # capture king\n",
    "        return False\n",
    "    \n",
    "    if game.selected_piece.name == 'pawn':\n",
    "        direction = 1\n",
    "        if game.selected_piece.color == 'white':\n",
    "            direction = -1\n",
    "        if game.final_col == game.initial_col: # no capture\n",
    "            if game.final_row - game.initial_row == direction:\n",
    "                if game.board[game.final_row][game.final_col].name == '':\n",
    "                    return True\n",
    "            if game.final_row - game.initial_row == 2 * direction:\n",
    "                if game.initial_row == 1 or game.initial_row == 6:\n",
    "                    if game.board[game.final_row - direction][game.final_col].name == game.board[game.final_row][game.final_col].name == '':\n",
    "                        game.selected_piece.moved = True\n",
    "                        return True\n",
    "        elif abs(game.final_col - game.initial_col) == 1: # capture\n",
    "            if game.final_row - game.initial_row == direction:\n",
    "                if game.board[game.final_row][game.final_col].name != '':\n",
    "                    return True\n",
    "        return False\n",
    "    \n",
    "    if game.selected_piece.name == 'knight':\n",
    "        row_diff = abs(game.final_row - game.initial_row)\n",
    "        col_diff = abs(game.final_col - game.initial_col)\n",
    "        if (row_diff == 2 and col_diff == 1) or (row_diff == 1 and col_diff == 2):\n",
    "            return True\n",
    "        return False\n",
    "    \n",
    "    elif game.selected_piece.name == 'bishop':\n",
    "        if abs(game.initial_row - game.final_row) != abs(game.initial_col - game.final_col): # bishop needs to move on same diagonal\n",
    "            return False\n",
    "        \n",
    "        # determine on which diagonal the bishop is moving\n",
    "        row_step = -1\n",
    "        col_step = -1\n",
    "        if game.final_row > game.initial_row:\n",
    "            row_step = 1\n",
    "        if game.final_col > game.initial_col:\n",
    "            col_step = 1\n",
    "            \n",
    "        # no piece on same diagonal between start and end\n",
    "        row = game.initial_row + row_step\n",
    "        col = game.initial_col + col_step\n",
    "        while row != game.final_row and col != game.final_col:\n",
    "            if game.board[row][col].name != '':\n",
    "                return False\n",
    "            row += row_step\n",
    "            col += col_step\n",
    "        return True\n",
    "    \n",
    "    elif game.selected_piece.name == 'rook':\n",
    "        if game.initial_row != game.final_row and game.initial_col != game.final_col: # rook needs to move on same file or rank\n",
    "            return False\n",
    "        elif game.initial_row == game.final_row: # no piece on same rank between start and end\n",
    "            start_col = min(game.initial_col, game.final_col)\n",
    "            end_col = max(game.initial_col, game.final_col)\n",
    "            for col in range(start_col + 1, end_col):\n",
    "                if game.board[game.final_row][col].name != '':\n",
    "                    return False\n",
    "        else: # no piece on same file between start and end\n",
    "            start_row = min(game.initial_row, game.final_row)\n",
    "            end_row = max(game.initial_row, game.final_row)\n",
    "            for row in range(start_row + 1, end_row):\n",
    "                if game.board[row][game.final_col].name != '':\n",
    "                    return False\n",
    "        game.selected_piece.moved = True\n",
    "        return True\n",
    "    \n",
    "    elif game.selected_piece.name == 'queen':\n",
    "        if abs(game.initial_row - game.final_row) == abs(game.initial_col - game.final_col): # diagonal move - bishop rules\n",
    "            row_step = -1\n",
    "            col_step = -1\n",
    "            if game.final_row > game.initial_row:\n",
    "                row_step = 1\n",
    "            if game.final_col > game.initial_col:\n",
    "                col_step = 1\n",
    "            row = game.initial_row + row_step\n",
    "            col = game.initial_col + col_step\n",
    "            while row != game.final_row and col != game.final_col:\n",
    "                if game.board[row][col].name != '':\n",
    "                    return False\n",
    "                row += row_step\n",
    "                col += col_step\n",
    "            return True\n",
    "        \n",
    "        elif game.initial_row == game.final_row or game.initial_col == game.final_col: # straight move - rook rules\n",
    "            if game.initial_row == game.final_row: # no piece on same rank between start and end\n",
    "                start_col = min(game.initial_col, game.final_col)\n",
    "                end_col = max(game.initial_col, game.final_col)\n",
    "                for col in range(start_col + 1, end_col):\n",
    "                    if game.board[game.final_row][col].name != '':\n",
    "                        return False\n",
    "            else: # no piece on same file between start and end\n",
    "                start_row = min(game.initial_row, game.final_row)\n",
    "                end_row = max(game.initial_row, game.final_row)\n",
    "                for row in range(start_row + 1, end_row):\n",
    "                    if game.board[row][game.final_col].name != '':\n",
    "                        return False\n",
    "            return True\n",
    "        \n",
    "    elif game.selected_piece.name == 'king':\n",
    "        if abs(game.final_row - game.initial_row) <= 1 and abs(game.final_col - game.initial_col) <= 1:\n",
    "            game.selected_piece.moved = True\n",
    "            return True\n",
    "        return False"
   ]
  },
  {
   "cell_type": "markdown",
   "id": "9d10a83b",
   "metadata": {},
   "source": [
    "### All Valid Moves"
   ]
  },
  {
   "cell_type": "code",
   "execution_count": 9,
   "id": "a4352702",
   "metadata": {},
   "outputs": [],
   "source": [
    "def get_valid_moves(game):\n",
    "    for row in range(8):\n",
    "        for col in range(8):\n",
    "            game.final_row, game.final_col = row, col\n",
    "            if valid_move(game):\n",
    "                game.valid_moves.append((row, col))\n",
    "    game.final_row, game.final_col = None, None"
   ]
  },
  {
   "cell_type": "markdown",
   "id": "960d7e8a",
   "metadata": {},
   "source": [
    "# Game Software"
   ]
  },
  {
   "cell_type": "markdown",
   "id": "4ef6f9dc",
   "metadata": {},
   "source": [
    "### Making Moves"
   ]
  },
  {
   "cell_type": "code",
   "execution_count": 10,
   "id": "84174099",
   "metadata": {},
   "outputs": [],
   "source": [
    "def normal_move(screen, game):\n",
    "    mouse_pos = pygame.mouse.get_pos()\n",
    "    for row in range(8):\n",
    "        for col in range(8):\n",
    "            if pygame.Rect(col * SIZE, row * SIZE, SIZE, SIZE).collidepoint(mouse_pos): # if cursor is over square, outline square\n",
    "                pygame.draw.rect(screen, pygame.Color((255, 255, 0)), pygame.Rect(col * SIZE, row * SIZE, SIZE, SIZE), 2)\n",
    "                if pygame.mouse.get_pressed()[0] and game.selected_piece is None: # if mouse is pressed over valid piece, select piece if no other piece currently selected\n",
    "                    if game.board[row][col].color == game.turn:\n",
    "                        game.selected_piece = game.board[row][col]\n",
    "                        game.initial_row, game.initial_col = row, col\n",
    "                        if game.valid_moves == []:\n",
    "                            get_valid_moves(game)\n",
    "                elif not pygame.mouse.get_pressed()[0] and game.selected_piece is not None and game.final_row is None: # if pressed mouse is released, drop that piece on that square if this is a valid move\n",
    "                    game.valid_moves = []\n",
    "                    game.final_row, game.final_col = row, col\n",
    "                    if valid_move(game):\n",
    "                        game.board[game.initial_row][game.initial_col] = Piece('', '')\n",
    "                        game.board[row][col] = game.selected_piece\n",
    "                    else:\n",
    "                        game.board[game.initial_row][game.initial_col] = game.selected_piece\n",
    "                        game.selected_piece, game.initial_row, game.initial_col, game.final_row, game.final_col = None, None, None, None, None\n",
    "    if game.selected_piece is not None and game.final_row is None: # if piece is selected, drag piece along with cursor and circle all possible landing squares\n",
    "        for row, col in game.valid_moves:\n",
    "            pygame.draw.circle(screen, (144, 172, 124), (col * SIZE + SIZE / 2, row * SIZE + SIZE / 2), 10)\n",
    "        screen.blit(IMAGES[f\"{game.selected_piece.color}_{game.selected_piece.name}\"], (mouse_pos[0] - SIZE // 2, mouse_pos[1] - SIZE // 2))\n",
    "    elif game.selected_piece is not None: # once move is completed, reset attributes and opponent's turn\n",
    "        game.selected_piece, game.initial_row, game.initial_col, game.final_row, game.final_col = None, None, None, None, None\n",
    "        if game.turn == 'white': # add in a checkmate check\n",
    "            game.turn = 'black'\n",
    "        else:\n",
    "            game.turn = 'white'"
   ]
  },
  {
   "cell_type": "markdown",
   "id": "d5e4d372",
   "metadata": {},
   "source": [
    "### On Screen Visualization"
   ]
  },
  {
   "cell_type": "code",
   "execution_count": 11,
   "id": "ad91075f",
   "metadata": {},
   "outputs": [],
   "source": [
    "def game():\n",
    "    game = Game()\n",
    "    game.setup_board()\n",
    "    screen = pygame.display.set_mode((WIDTH, HEIGHT))\n",
    "    running = True\n",
    "    while running:\n",
    "        for event in pygame.event.get():\n",
    "            if event.type == pygame.QUIT:\n",
    "                running = False\n",
    "                pygame.quit()\n",
    "        draw_board(screen, game)\n",
    "        normal_move(screen, game)\n",
    "        pygame.display.flip()"
   ]
  },
  {
   "cell_type": "markdown",
   "id": "de426014",
   "metadata": {},
   "source": [
    "# Puzzle Software"
   ]
  },
  {
   "cell_type": "markdown",
   "id": "da3f830c",
   "metadata": {},
   "source": [
    "### Importing Puzzle Data"
   ]
  },
  {
   "cell_type": "code",
   "execution_count": 12,
   "id": "2fc19067",
   "metadata": {},
   "outputs": [],
   "source": [
    "import ast\n",
    "df = pd.read_csv(\"puzzles.csv\")\n",
    "df.drop('Unnamed: 0', axis = 1, inplace = True)\n",
    "df['positions'] = df['positions'].apply(ast.literal_eval) # removes quotation around list; e.g. \"[1, 2, 3]\" --> [1, 2, 3]\n",
    "df = df.sample(frac=1).reset_index(drop=True)"
   ]
  },
  {
   "cell_type": "markdown",
   "id": "36505d9c",
   "metadata": {},
   "source": [
    "### Making Moves"
   ]
  },
  {
   "cell_type": "code",
   "execution_count": 13,
   "id": "ee13d678",
   "metadata": {},
   "outputs": [],
   "source": [
    "def puzzle_move(screen, game, fen_list):\n",
    "    mouse_pos = pygame.mouse.get_pos()\n",
    "    for row in range(8):\n",
    "        for col in range(8):\n",
    "            if pygame.Rect(col * SIZE, row * SIZE, SIZE, SIZE).collidepoint(mouse_pos): # if cursor is over square, outline square\n",
    "                pygame.draw.rect(screen, pygame.Color((255, 255, 0)), pygame.Rect(col * SIZE, row * SIZE, SIZE, SIZE), 2)\n",
    "                if pygame.mouse.get_pressed()[0] and game.selected_piece is None: # if mouse is pressed over valid piece, select piece if no other piece currently selected\n",
    "                    if game.board[row][col].color == game.turn:\n",
    "                        game.selected_piece = game.board[row][col]\n",
    "                        game.initial_row, game.initial_col = row, col\n",
    "                        if game.valid_moves == []:\n",
    "                            get_valid_moves(game)\n",
    "                elif not pygame.mouse.get_pressed()[0] and game.selected_piece is not None and game.final_row is None: # if pressed mouse is released, drop that piece on that square if this is a valid move\n",
    "                    game.valid_moves = []\n",
    "                    game.final_row, game.final_col = row, col\n",
    "                    if valid_move(game):\n",
    "                        game.board[game.initial_row][game.initial_col] = Piece('', '')\n",
    "                        game.board[row][col] = game.selected_piece\n",
    "                    else:\n",
    "                        game.board[game.initial_row][game.initial_col] = game.selected_piece\n",
    "                        game.selected_piece, game.initial_row, game.initial_col, game.final_row, game.final_col = None, None, None, None, None\n",
    "    if game.selected_piece is not None and game.final_row is None: # if piece is selected, drag piece along with cursor and circle all possible landing squares\n",
    "        for row, col in game.valid_moves:\n",
    "            pygame.draw.circle(screen, (144, 172, 124), (col * SIZE + SIZE / 2, row * SIZE + SIZE / 2), 10)\n",
    "        screen.blit(IMAGES[f\"{game.selected_piece.color}_{game.selected_piece.name}\"], (mouse_pos[0] - SIZE // 2, mouse_pos[1] - SIZE // 2))\n",
    "    elif game.selected_piece is not None: # once move is completed, reset attributes and opponent's turn\n",
    "        game.selected_piece, game.initial_row, game.initial_col, game.final_row, game.final_col = None, None, None, None, None\n",
    "        if generate_fen(game) not in fen_list:\n",
    "            return False\n",
    "        elif generate_fen(game) == fen_list[-1]:\n",
    "            return True\n",
    "        elif fen_list.index(generate_fen(game)) % 2 == 1:\n",
    "            game.setup_custom(fen_list[fen_list.index(generate_fen(game)) + 1])"
   ]
  },
  {
   "cell_type": "markdown",
   "id": "07fa31b5",
   "metadata": {},
   "source": [
    "### On Screen Visualization"
   ]
  },
  {
   "cell_type": "code",
   "execution_count": 14,
   "id": "f5340829",
   "metadata": {},
   "outputs": [],
   "source": [
    "def puzzle_display(color, positions):\n",
    "    game = Game()\n",
    "    game.turn = color\n",
    "    game.setup_custom(positions[0])\n",
    "    screen = pygame.display.set_mode((WIDTH, HEIGHT))\n",
    "    running = True\n",
    "    while running:\n",
    "        for event in pygame.event.get():\n",
    "            if event.type == pygame.QUIT:\n",
    "                running = False\n",
    "                pygame.quit()\n",
    "        draw_board(screen, game)\n",
    "        status = puzzle_move(screen, game, positions)\n",
    "        if status == False:\n",
    "            running = False\n",
    "            pygame.quit()\n",
    "            return True\n",
    "        elif status:\n",
    "            running = False\n",
    "            pygame.quit()\n",
    "        else:\n",
    "            pygame.display.flip()"
   ]
  },
  {
   "cell_type": "markdown",
   "id": "d60be5fc",
   "metadata": {},
   "source": [
    "### Generating Puzzle Feed"
   ]
  },
  {
   "cell_type": "code",
   "execution_count": 15,
   "id": "7bb04e1d",
   "metadata": {},
   "outputs": [],
   "source": [
    "def puzzle_feed():\n",
    "    count = 0\n",
    "    rating = int(input(\"Enter Initial Rating: \"))\n",
    "    clear_output()\n",
    "    while True:\n",
    "        curr_df = df[(df['rating'] > rating - 150) & (df['rating'] < rating + 150)]\n",
    "        index = random.choice(curr_df.index)\n",
    "        puzzle = curr_df.loc[index]\n",
    "        color = puzzle['color']\n",
    "        failed = puzzle_display(color, puzzle['positions'])\n",
    "        if failed:\n",
    "            print(f\"The last puzzle was rated {puzzle['rating']}\")\n",
    "            print(f\"You Correctly Solved {count} Puzzles\")\n",
    "            break\n",
    "        count += 1\n",
    "        rating += abs(rating - puzzle['rating']) / 2"
   ]
  },
  {
   "cell_type": "code",
   "execution_count": 16,
   "id": "4ef99902",
   "metadata": {
    "scrolled": false
   },
   "outputs": [
    {
     "name": "stdout",
     "output_type": "stream",
     "text": [
      "The last puzzle was rated 2562\n",
      "You Correctly Solved 0 Puzzles\n"
     ]
    }
   ],
   "source": [
    "if __name__ == \"__main__\":\n",
    "    # game()\n",
    "    puzzle_feed()"
   ]
  },
  {
   "cell_type": "code",
   "execution_count": null,
   "id": "35bafd9e",
   "metadata": {},
   "outputs": [],
   "source": []
  }
 ],
 "metadata": {
  "kernelspec": {
   "display_name": "Python 3 (ipykernel)",
   "language": "python",
   "name": "python3"
  },
  "language_info": {
   "codemirror_mode": {
    "name": "ipython",
    "version": 3
   },
   "file_extension": ".py",
   "mimetype": "text/x-python",
   "name": "python",
   "nbconvert_exporter": "python",
   "pygments_lexer": "ipython3",
   "version": "3.9.13"
  }
 },
 "nbformat": 4,
 "nbformat_minor": 5
}
